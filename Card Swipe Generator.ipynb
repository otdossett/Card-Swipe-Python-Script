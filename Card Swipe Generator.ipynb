{
 "cells": [
  {
   "cell_type": "code",
   "execution_count": 1,
   "metadata": {},
   "outputs": [],
   "source": [
    "csv_to_import = 'Scrubbed Card Swipes.csv'\n",
    "output_file_suffix = 'Scrubbed Swipes'"
   ]
  },
  {
   "cell_type": "code",
   "execution_count": 2,
   "metadata": {},
   "outputs": [],
   "source": [
    "import pandas as pd\n",
    "import numpy as np\n",
    "from datetime import datetime"
   ]
  },
  {
   "cell_type": "code",
   "execution_count": 3,
   "metadata": {},
   "outputs": [],
   "source": [
    "initial_dataframe = pd.read_csv(csv_to_import)\n",
    "\n",
    "values_to_drop = ['Contractor', 'Temp', 'Custodial', 'Visitor', 'NaN', 'zz']\n",
    "\n",
    "initial_dataframe['Date'] = initial_dataframe['Event date/time'].transform(lambda x: x.split('T')[0])\n",
    "initial_dataframe['Time'] = initial_dataframe['Event date/time'].transform(lambda x: x.split('T')[1])\n",
    "\n",
    "initial_dataframe['Event date/time'] = initial_dataframe['Event date/time'].transform(lambda x:x.replace('T',' '))\n",
    "initial_dataframe['Event date/time'] = initial_dataframe['Event date/time'].transform(lambda x:datetime.strptime(x, '%Y-%m-%d %H:%M:%S'))\n",
    "initial_dataframe['Day of Week'] = initial_dataframe['Event date/time'].apply(lambda x: x.weekday())\n",
    "initial_dataframe = initial_dataframe[initial_dataframe['Day of Week'].isin([5,6]) == False]\n",
    "\n",
    "initial_dataframe['User name'] = initial_dataframe['User name'].transform(lambda x: str(x).replace(' - Mobile','').replace('-mobile','').replace(' - Fob','').replace(' - mobile', '').replace('-Mobile',''))\n",
    "\n",
    "\n",
    "first_scan_frame = initial_dataframe.drop_duplicates(subset = ['User name', 'Date'], keep = 'first')\n",
    "last_scan_frame = initial_dataframe.drop_duplicates(subset = ['User name', 'Date'], keep = 'last')\n",
    "\n",
    "initial_dataframe.drop_duplicates(subset = ['User name', 'Date'], keep = 'last', inplace = True)\n",
    "\n",
    "first_names_to_drop = []\n",
    "for index, row in first_scan_frame.iterrows():\n",
    "    for value in values_to_drop:\n",
    "        if value in str(row['User name']):\n",
    "            first_names_to_drop.append(row['User name'])\n",
    "first_scan_frame = first_scan_frame[first_scan_frame['User name'].isin(first_names_to_drop) == False]\n",
    "\n",
    "last_names_to_drop = []\n",
    "for index, row in first_scan_frame.iterrows():\n",
    "    for value in values_to_drop:\n",
    "        if value in str(row['User name']):\n",
    "            last_names_to_drop.append(row['User name'])\n",
    "last_scan_frame = last_scan_frame[last_scan_frame['User name'].isin(last_names_to_drop) == False]\n",
    "\n",
    "usernames_to_drop = []\n",
    "for index, row in initial_dataframe.iterrows():\n",
    "    for value in values_to_drop:\n",
    "        if value in str(row['User name']):\n",
    "            usernames_to_drop.append(row['User name'])\n",
    "\n",
    "initial_dataframe = initial_dataframe[initial_dataframe['User name'].isin(usernames_to_drop) == False]\n",
    "\n",
    "initial_dataframe.reset_index()\n",
    "\n",
    "pivot_count_table = pd.pivot_table(data = initial_dataframe, values = 'User name', index = 'Date', aggfunc = 'count')\n",
    "\n",
    "pivot_count_table.rename(columns = {'User name':'Employee Count'}, inplace=True)\n",
    "pivot_count_table.to_csv('Employee Count by Day ' + output_file_suffix + '.csv')"
   ]
  },
  {
   "cell_type": "code",
   "execution_count": 4,
   "metadata": {},
   "outputs": [],
   "source": [
    "initial_dataframe['is_here'] = True\n",
    "pivot_is_here_table = pd.pivot_table(data = initial_dataframe, values = 'is_here', index = 'User name', columns = 'Date')\n",
    "pivot_is_here_table.fillna('', inplace = True)\n",
    "pivot_is_here_table.replace(to_replace = {True:'X'}, inplace = True)\n",
    "pivot_is_here_table.to_csv('Employee By Date ' + output_file_suffix + '.csv')"
   ]
  },
  {
   "cell_type": "code",
   "execution_count": 5,
   "metadata": {},
   "outputs": [
    {
     "name": "stderr",
     "output_type": "stream",
     "text": [
      "c:\\Users\\Owen\\anaconda3\\lib\\site-packages\\IPython\\core\\interactiveshell.py:3364: PerformanceWarning: DataFrame is highly fragmented.  This is usually the result of calling `frame.insert` many times, which has poor performance.  Consider joining all columns at once using pd.concat(axis=1) instead.  To get a de-fragmented frame, use `newframe = frame.copy()`\n",
      "  if (await self.run_code(code, result,  async_=asy)):\n"
     ]
    }
   ],
   "source": [
    "first_scan_pivot = first_scan_frame.pivot(index = 'User name', columns = 'Date', values = 'Time')\n",
    "last_scan_pivot = last_scan_frame.pivot(index = 'User name', columns = 'Date', values = 'Time')\n",
    "merged_frame = first_scan_pivot.merge(last_scan_pivot, on = 'User name', suffixes = (' first',' last'), sort = True)\n",
    "sorted_columns = merged_frame.columns.to_list()\n",
    "sorted_columns.sort()\n",
    "merged_frame = merged_frame[sorted_columns]\n",
    "\n",
    "for index, i in enumerate(range(2, len(merged_frame.columns), 2)):\n",
    "    merged_frame.insert(i+index, i,'---')\n",
    "merged_frame.fillna('', inplace = True)\n",
    "\n",
    "merged_frame.to_csv('First and Last Swipe '+output_file_suffix+'.csv')\n"
   ]
  }
 ],
 "metadata": {
  "kernelspec": {
   "display_name": "Python 3.9.7 ('base')",
   "language": "python",
   "name": "python3"
  },
  "language_info": {
   "codemirror_mode": {
    "name": "ipython",
    "version": 3
   },
   "file_extension": ".py",
   "mimetype": "text/x-python",
   "name": "python",
   "nbconvert_exporter": "python",
   "pygments_lexer": "ipython3",
   "version": "3.9.7"
  },
  "orig_nbformat": 4,
  "vscode": {
   "interpreter": {
    "hash": "bc917dded785123449b59d6fdb70b96d2d0222454cfa0af066b1345d3422f3f9"
   }
  }
 },
 "nbformat": 4,
 "nbformat_minor": 2
}
